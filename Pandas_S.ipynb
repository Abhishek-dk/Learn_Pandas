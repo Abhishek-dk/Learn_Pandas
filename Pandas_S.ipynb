{
 "cells": [
  {
   "cell_type": "code",
   "execution_count": 2,
   "id": "c7804b14",
   "metadata": {},
   "outputs": [],
   "source": [
    "import pandas as pd\n",
    "import numpy as np"
   ]
  },
  {
   "cell_type": "markdown",
   "id": "2fa66373",
   "metadata": {},
   "source": [
    "#Series is 1d array like object ontaining data and labels\n",
    "#datatype=int,str,f;oat,object\n",
    "#data inputs=ndarray,dict,scalar,list\n",
    "#series=lable(index)"
   ]
  },
  {
   "cell_type": "code",
   "execution_count": 3,
   "id": "224165e6",
   "metadata": {},
   "outputs": [
    {
     "name": "stdout",
     "output_type": "stream",
     "text": [
      "0    A\n",
      "1    B\n",
      "2    C\n",
      "3    D\n",
      "4    E\n",
      "5    F\n",
      "dtype: object\n"
     ]
    }
   ],
   "source": [
    "fisrt_series=pd.Series(list(\"ABCDEF\"))\n",
    "print(fisrt_series)"
   ]
  },
  {
   "cell_type": "code",
   "execution_count": 5,
   "id": "a8bff3be",
   "metadata": {},
   "outputs": [
    {
     "name": "stdout",
     "output_type": "stream",
     "text": [
      "['Delhi' 'Mumabai' 'Hyderabad' 'Thane' 'Kolkata' 'Navi Mumbai' 'Kerla'\n",
      " 'Bang;ore']\n"
     ]
    }
   ],
   "source": [
    "country=np.array([\"Delhi\",\"Mumabai\",\"Hyderabad\",\"Thane\",\"Kolkata\",\"Navi Mumbai\",\"Kerla\",\"Bang;ore\"])\n",
    "print(country)"
   ]
  },
  {
   "cell_type": "code",
   "execution_count": 6,
   "id": "1eae8a59",
   "metadata": {},
   "outputs": [
    {
     "name": "stdout",
     "output_type": "stream",
     "text": [
      "0          Delhi\n",
      "1        Mumabai\n",
      "2      Hyderabad\n",
      "3          Thane\n",
      "4        Kolkata\n",
      "5    Navi Mumbai\n",
      "6          Kerla\n",
      "7       Bang;ore\n",
      "dtype: object\n"
     ]
    }
   ],
   "source": [
    "s_co=pd.Series(country)\n",
    "print(s_co)"
   ]
  },
  {
   "cell_type": "code",
   "execution_count": 7,
   "id": "fc8c223b",
   "metadata": {},
   "outputs": [],
   "source": [
    "#Evaluate countries and theis=r corresponding gdp prer capita and print them as series\n",
    "dict_cgdp=pd.Series([5231.235,2365.5600,7894.3266,5641.256,6325.1230,78963,4563.32100,36910.2300],\n",
    "                    index=[\"USA\",\"INDIA\",\"RUSSIA\",\"CHINA\",\"Norway\",\"Japan\",\"Singapore\",\"Thailand\"])"
   ]
  },
  {
   "cell_type": "code",
   "execution_count": 8,
   "id": "66061c0c",
   "metadata": {},
   "outputs": [
    {
     "name": "stdout",
     "output_type": "stream",
     "text": [
      "USA           5231.2350\n",
      "INDIA         2365.5600\n",
      "RUSSIA        7894.3266\n",
      "CHINA         5641.2560\n",
      "Norway        6325.1230\n",
      "Japan        78963.0000\n",
      "Singapore     4563.3210\n",
      "Thailand     36910.2300\n",
      "dtype: float64\n"
     ]
    }
   ],
   "source": [
    "print(dict_cgdp)"
   ]
  },
  {
   "cell_type": "code",
   "execution_count": 10,
   "id": "284cbe98",
   "metadata": {},
   "outputs": [
    {
     "name": "stdout",
     "output_type": "stream",
     "text": [
      "a    5\n",
      "b    5\n",
      "c    5\n",
      "d    5\n",
      "e    5\n",
      "dtype: int64\n"
     ]
    }
   ],
   "source": [
    "#print series with scalar input\n",
    "s_series=pd.Series(5,index=[\"a\",'b','c','d','e'])\n",
    "print(s_series)"
   ]
  },
  {
   "cell_type": "code",
   "execution_count": 11,
   "id": "3e092005",
   "metadata": {},
   "outputs": [
    {
     "data": {
      "text/plain": [
       "5231.235"
      ]
     },
     "execution_count": 11,
     "metadata": {},
     "output_type": "execute_result"
    }
   ],
   "source": [
    "#Accessing data elements in the series\n",
    "dict_cgdp[0]"
   ]
  },
  {
   "cell_type": "code",
   "execution_count": 12,
   "id": "a0e0ecca",
   "metadata": {},
   "outputs": [
    {
     "data": {
      "text/plain": [
       "USA       5231.2350\n",
       "INDIA     2365.5600\n",
       "RUSSIA    7894.3266\n",
       "CHINA     5641.2560\n",
       "Norway    6325.1230\n",
       "dtype: float64"
      ]
     },
     "execution_count": 12,
     "metadata": {},
     "output_type": "execute_result"
    }
   ],
   "source": [
    "dict_cgdp[0:5]"
   ]
  },
  {
   "cell_type": "code",
   "execution_count": 13,
   "id": "9aeef456",
   "metadata": {},
   "outputs": [
    {
     "data": {
      "text/plain": [
       "2365.56"
      ]
     },
     "execution_count": 13,
     "metadata": {},
     "output_type": "execute_result"
    }
   ],
   "source": [
    "dict_cgdp.loc[\"INDIA\"]"
   ]
  },
  {
   "cell_type": "code",
   "execution_count": 14,
   "id": "17b93b7e",
   "metadata": {},
   "outputs": [
    {
     "data": {
      "text/plain": [
       "5231.235"
      ]
     },
     "execution_count": 14,
     "metadata": {},
     "output_type": "execute_result"
    }
   ],
   "source": [
    "dict_cgdp.iloc[0]"
   ]
  },
  {
   "cell_type": "code",
   "execution_count": 15,
   "id": "9fe9fd55",
   "metadata": {},
   "outputs": [
    {
     "name": "stdout",
     "output_type": "stream",
     "text": [
      "a    1\n",
      "b    2\n",
      "c    3\n",
      "d    4\n",
      "dtype: int64\n",
      "a    10\n",
      "b    20\n",
      "c    30\n",
      "d    40\n",
      "dtype: int64\n"
     ]
    }
   ],
   "source": [
    "#Vectorised operations in series \n",
    "one_vseries=pd.Series([1,2,3,4],index=['a','b','c','d'])\n",
    "two_vseries=pd.Series([10,20,30,40],index=['a','b','c','d'])\n",
    "print(one_vseries)\n",
    "print(two_vseries)"
   ]
  },
  {
   "cell_type": "code",
   "execution_count": 16,
   "id": "65ce6dc0",
   "metadata": {},
   "outputs": [
    {
     "data": {
      "text/plain": [
       "a    11\n",
       "b    22\n",
       "c    33\n",
       "d    44\n",
       "dtype: int64"
      ]
     },
     "execution_count": 16,
     "metadata": {},
     "output_type": "execute_result"
    }
   ],
   "source": [
    "one_vseries+two_vseries"
   ]
  },
  {
   "cell_type": "code",
   "execution_count": 17,
   "id": "4ed15442",
   "metadata": {},
   "outputs": [],
   "source": [
    "two_vseries=pd.Series([10,20,30,40],index=['c','d','a','b'])"
   ]
  },
  {
   "cell_type": "code",
   "execution_count": 18,
   "id": "8d97d439",
   "metadata": {},
   "outputs": [
    {
     "data": {
      "text/plain": [
       "a    31\n",
       "b    42\n",
       "c    13\n",
       "d    24\n",
       "dtype: int64"
      ]
     },
     "execution_count": 18,
     "metadata": {},
     "output_type": "execute_result"
    }
   ],
   "source": [
    "one_vseries+two_vseries"
   ]
  },
  {
   "cell_type": "code",
   "execution_count": 19,
   "id": "c64aae8b",
   "metadata": {},
   "outputs": [],
   "source": [
    "thr_vseries=pd.Series([10,20,30,40],index=['a','e','c','h'])"
   ]
  },
  {
   "cell_type": "code",
   "execution_count": 20,
   "id": "c46b6831",
   "metadata": {},
   "outputs": [
    {
     "data": {
      "text/plain": [
       "a    41.0\n",
       "b     NaN\n",
       "c    43.0\n",
       "d     NaN\n",
       "e     NaN\n",
       "h     NaN\n",
       "dtype: float64"
      ]
     },
     "execution_count": 20,
     "metadata": {},
     "output_type": "execute_result"
    }
   ],
   "source": [
    "one_vseries+thr_vseries+two_vseries"
   ]
  },
  {
   "cell_type": "code",
   "execution_count": null,
   "id": "cd17cc5c",
   "metadata": {},
   "outputs": [],
   "source": []
  },
  {
   "cell_type": "code",
   "execution_count": null,
   "id": "c4261be7",
   "metadata": {},
   "outputs": [],
   "source": []
  }
 ],
 "metadata": {
  "kernelspec": {
   "display_name": "Python 3 (ipykernel)",
   "language": "python",
   "name": "python3"
  },
  "language_info": {
   "codemirror_mode": {
    "name": "ipython",
    "version": 3
   },
   "file_extension": ".py",
   "mimetype": "text/x-python",
   "name": "python",
   "nbconvert_exporter": "python",
   "pygments_lexer": "ipython3",
   "version": "3.9.13"
  }
 },
 "nbformat": 4,
 "nbformat_minor": 5
}
